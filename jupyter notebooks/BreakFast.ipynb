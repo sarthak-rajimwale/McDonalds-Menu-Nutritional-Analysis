{
 "cells": [
  {
   "cell_type": "code",
   "execution_count": 1,
   "metadata": {},
   "outputs": [],
   "source": [
    "import numpy as np\n",
    "import pandas as pd\n",
    "import matplotlib.pyplot as plt\n",
    "import seaborn as sns\n",
    "\n",
    "import warnings\n",
    "warnings.filterwarnings('ignore')"
   ]
  },
  {
   "cell_type": "code",
   "execution_count": 2,
   "metadata": {},
   "outputs": [],
   "source": [
    "df=pd.read_csv('menu.csv')"
   ]
  },
  {
   "cell_type": "code",
   "execution_count": 3,
   "metadata": {},
   "outputs": [
    {
     "data": {
      "text/html": [
       "<div>\n",
       "<style scoped>\n",
       "    .dataframe tbody tr th:only-of-type {\n",
       "        vertical-align: middle;\n",
       "    }\n",
       "\n",
       "    .dataframe tbody tr th {\n",
       "        vertical-align: top;\n",
       "    }\n",
       "\n",
       "    .dataframe thead th {\n",
       "        text-align: right;\n",
       "    }\n",
       "</style>\n",
       "<table border=\"1\" class=\"dataframe\">\n",
       "  <thead>\n",
       "    <tr style=\"text-align: right;\">\n",
       "      <th></th>\n",
       "      <th>Category</th>\n",
       "      <th>Item</th>\n",
       "      <th>Serving Size</th>\n",
       "      <th>Calories</th>\n",
       "      <th>Calories from Fat</th>\n",
       "      <th>Total Fat</th>\n",
       "      <th>Total Fat (% Daily Value)</th>\n",
       "      <th>Saturated Fat</th>\n",
       "      <th>Saturated Fat (% Daily Value)</th>\n",
       "      <th>Trans Fat</th>\n",
       "      <th>...</th>\n",
       "      <th>Carbohydrates</th>\n",
       "      <th>Carbohydrates (% Daily Value)</th>\n",
       "      <th>Dietary Fiber</th>\n",
       "      <th>Dietary Fiber (% Daily Value)</th>\n",
       "      <th>Sugars</th>\n",
       "      <th>Protein</th>\n",
       "      <th>Vitamin A (% Daily Value)</th>\n",
       "      <th>Vitamin C (% Daily Value)</th>\n",
       "      <th>Calcium (% Daily Value)</th>\n",
       "      <th>Iron (% Daily Value)</th>\n",
       "    </tr>\n",
       "  </thead>\n",
       "  <tbody>\n",
       "    <tr>\n",
       "      <th>0</th>\n",
       "      <td>Breakfast</td>\n",
       "      <td>Egg McMuffin</td>\n",
       "      <td>4.8 oz (136 g)</td>\n",
       "      <td>300</td>\n",
       "      <td>120</td>\n",
       "      <td>13.0</td>\n",
       "      <td>20</td>\n",
       "      <td>5.0</td>\n",
       "      <td>25</td>\n",
       "      <td>0.0</td>\n",
       "      <td>...</td>\n",
       "      <td>31</td>\n",
       "      <td>10</td>\n",
       "      <td>4</td>\n",
       "      <td>17</td>\n",
       "      <td>3</td>\n",
       "      <td>17</td>\n",
       "      <td>10</td>\n",
       "      <td>0</td>\n",
       "      <td>25</td>\n",
       "      <td>15</td>\n",
       "    </tr>\n",
       "    <tr>\n",
       "      <th>1</th>\n",
       "      <td>Breakfast</td>\n",
       "      <td>Egg White Delight</td>\n",
       "      <td>4.8 oz (135 g)</td>\n",
       "      <td>250</td>\n",
       "      <td>70</td>\n",
       "      <td>8.0</td>\n",
       "      <td>12</td>\n",
       "      <td>3.0</td>\n",
       "      <td>15</td>\n",
       "      <td>0.0</td>\n",
       "      <td>...</td>\n",
       "      <td>30</td>\n",
       "      <td>10</td>\n",
       "      <td>4</td>\n",
       "      <td>17</td>\n",
       "      <td>3</td>\n",
       "      <td>18</td>\n",
       "      <td>6</td>\n",
       "      <td>0</td>\n",
       "      <td>25</td>\n",
       "      <td>8</td>\n",
       "    </tr>\n",
       "    <tr>\n",
       "      <th>2</th>\n",
       "      <td>Breakfast</td>\n",
       "      <td>Sausage McMuffin</td>\n",
       "      <td>3.9 oz (111 g)</td>\n",
       "      <td>370</td>\n",
       "      <td>200</td>\n",
       "      <td>23.0</td>\n",
       "      <td>35</td>\n",
       "      <td>8.0</td>\n",
       "      <td>42</td>\n",
       "      <td>0.0</td>\n",
       "      <td>...</td>\n",
       "      <td>29</td>\n",
       "      <td>10</td>\n",
       "      <td>4</td>\n",
       "      <td>17</td>\n",
       "      <td>2</td>\n",
       "      <td>14</td>\n",
       "      <td>8</td>\n",
       "      <td>0</td>\n",
       "      <td>25</td>\n",
       "      <td>10</td>\n",
       "    </tr>\n",
       "    <tr>\n",
       "      <th>3</th>\n",
       "      <td>Breakfast</td>\n",
       "      <td>Sausage McMuffin with Egg</td>\n",
       "      <td>5.7 oz (161 g)</td>\n",
       "      <td>450</td>\n",
       "      <td>250</td>\n",
       "      <td>28.0</td>\n",
       "      <td>43</td>\n",
       "      <td>10.0</td>\n",
       "      <td>52</td>\n",
       "      <td>0.0</td>\n",
       "      <td>...</td>\n",
       "      <td>30</td>\n",
       "      <td>10</td>\n",
       "      <td>4</td>\n",
       "      <td>17</td>\n",
       "      <td>2</td>\n",
       "      <td>21</td>\n",
       "      <td>15</td>\n",
       "      <td>0</td>\n",
       "      <td>30</td>\n",
       "      <td>15</td>\n",
       "    </tr>\n",
       "    <tr>\n",
       "      <th>4</th>\n",
       "      <td>Breakfast</td>\n",
       "      <td>Sausage McMuffin with Egg Whites</td>\n",
       "      <td>5.7 oz (161 g)</td>\n",
       "      <td>400</td>\n",
       "      <td>210</td>\n",
       "      <td>23.0</td>\n",
       "      <td>35</td>\n",
       "      <td>8.0</td>\n",
       "      <td>42</td>\n",
       "      <td>0.0</td>\n",
       "      <td>...</td>\n",
       "      <td>30</td>\n",
       "      <td>10</td>\n",
       "      <td>4</td>\n",
       "      <td>17</td>\n",
       "      <td>2</td>\n",
       "      <td>21</td>\n",
       "      <td>6</td>\n",
       "      <td>0</td>\n",
       "      <td>25</td>\n",
       "      <td>10</td>\n",
       "    </tr>\n",
       "    <tr>\n",
       "      <th>...</th>\n",
       "      <td>...</td>\n",
       "      <td>...</td>\n",
       "      <td>...</td>\n",
       "      <td>...</td>\n",
       "      <td>...</td>\n",
       "      <td>...</td>\n",
       "      <td>...</td>\n",
       "      <td>...</td>\n",
       "      <td>...</td>\n",
       "      <td>...</td>\n",
       "      <td>...</td>\n",
       "      <td>...</td>\n",
       "      <td>...</td>\n",
       "      <td>...</td>\n",
       "      <td>...</td>\n",
       "      <td>...</td>\n",
       "      <td>...</td>\n",
       "      <td>...</td>\n",
       "      <td>...</td>\n",
       "      <td>...</td>\n",
       "      <td>...</td>\n",
       "    </tr>\n",
       "    <tr>\n",
       "      <th>255</th>\n",
       "      <td>Smoothies &amp; Shakes</td>\n",
       "      <td>McFlurry with Oreo Cookies (Small)</td>\n",
       "      <td>10.1 oz (285 g)</td>\n",
       "      <td>510</td>\n",
       "      <td>150</td>\n",
       "      <td>17.0</td>\n",
       "      <td>26</td>\n",
       "      <td>9.0</td>\n",
       "      <td>44</td>\n",
       "      <td>0.5</td>\n",
       "      <td>...</td>\n",
       "      <td>80</td>\n",
       "      <td>27</td>\n",
       "      <td>1</td>\n",
       "      <td>4</td>\n",
       "      <td>64</td>\n",
       "      <td>12</td>\n",
       "      <td>15</td>\n",
       "      <td>0</td>\n",
       "      <td>40</td>\n",
       "      <td>8</td>\n",
       "    </tr>\n",
       "    <tr>\n",
       "      <th>256</th>\n",
       "      <td>Smoothies &amp; Shakes</td>\n",
       "      <td>McFlurry with Oreo Cookies (Medium)</td>\n",
       "      <td>13.4 oz (381 g)</td>\n",
       "      <td>690</td>\n",
       "      <td>200</td>\n",
       "      <td>23.0</td>\n",
       "      <td>35</td>\n",
       "      <td>12.0</td>\n",
       "      <td>58</td>\n",
       "      <td>1.0</td>\n",
       "      <td>...</td>\n",
       "      <td>106</td>\n",
       "      <td>35</td>\n",
       "      <td>1</td>\n",
       "      <td>5</td>\n",
       "      <td>85</td>\n",
       "      <td>15</td>\n",
       "      <td>20</td>\n",
       "      <td>0</td>\n",
       "      <td>50</td>\n",
       "      <td>10</td>\n",
       "    </tr>\n",
       "    <tr>\n",
       "      <th>257</th>\n",
       "      <td>Smoothies &amp; Shakes</td>\n",
       "      <td>McFlurry with Oreo Cookies (Snack)</td>\n",
       "      <td>6.7 oz (190 g)</td>\n",
       "      <td>340</td>\n",
       "      <td>100</td>\n",
       "      <td>11.0</td>\n",
       "      <td>17</td>\n",
       "      <td>6.0</td>\n",
       "      <td>29</td>\n",
       "      <td>0.0</td>\n",
       "      <td>...</td>\n",
       "      <td>53</td>\n",
       "      <td>18</td>\n",
       "      <td>1</td>\n",
       "      <td>2</td>\n",
       "      <td>43</td>\n",
       "      <td>8</td>\n",
       "      <td>10</td>\n",
       "      <td>0</td>\n",
       "      <td>25</td>\n",
       "      <td>6</td>\n",
       "    </tr>\n",
       "    <tr>\n",
       "      <th>258</th>\n",
       "      <td>Smoothies &amp; Shakes</td>\n",
       "      <td>McFlurry with Reese's Peanut Butter Cups (Medium)</td>\n",
       "      <td>14.2 oz (403 g)</td>\n",
       "      <td>810</td>\n",
       "      <td>290</td>\n",
       "      <td>32.0</td>\n",
       "      <td>50</td>\n",
       "      <td>15.0</td>\n",
       "      <td>76</td>\n",
       "      <td>1.0</td>\n",
       "      <td>...</td>\n",
       "      <td>114</td>\n",
       "      <td>38</td>\n",
       "      <td>2</td>\n",
       "      <td>9</td>\n",
       "      <td>103</td>\n",
       "      <td>21</td>\n",
       "      <td>20</td>\n",
       "      <td>0</td>\n",
       "      <td>60</td>\n",
       "      <td>6</td>\n",
       "    </tr>\n",
       "    <tr>\n",
       "      <th>259</th>\n",
       "      <td>Smoothies &amp; Shakes</td>\n",
       "      <td>McFlurry with Reese's Peanut Butter Cups (Snack)</td>\n",
       "      <td>7.1 oz (202 g)</td>\n",
       "      <td>410</td>\n",
       "      <td>150</td>\n",
       "      <td>16.0</td>\n",
       "      <td>25</td>\n",
       "      <td>8.0</td>\n",
       "      <td>38</td>\n",
       "      <td>0.0</td>\n",
       "      <td>...</td>\n",
       "      <td>57</td>\n",
       "      <td>19</td>\n",
       "      <td>1</td>\n",
       "      <td>5</td>\n",
       "      <td>51</td>\n",
       "      <td>10</td>\n",
       "      <td>10</td>\n",
       "      <td>0</td>\n",
       "      <td>30</td>\n",
       "      <td>4</td>\n",
       "    </tr>\n",
       "  </tbody>\n",
       "</table>\n",
       "<p>260 rows × 24 columns</p>\n",
       "</div>"
      ],
      "text/plain": [
       "               Category                                               Item  \\\n",
       "0             Breakfast                                       Egg McMuffin   \n",
       "1             Breakfast                                  Egg White Delight   \n",
       "2             Breakfast                                   Sausage McMuffin   \n",
       "3             Breakfast                          Sausage McMuffin with Egg   \n",
       "4             Breakfast                   Sausage McMuffin with Egg Whites   \n",
       "..                  ...                                                ...   \n",
       "255  Smoothies & Shakes                 McFlurry with Oreo Cookies (Small)   \n",
       "256  Smoothies & Shakes                McFlurry with Oreo Cookies (Medium)   \n",
       "257  Smoothies & Shakes                 McFlurry with Oreo Cookies (Snack)   \n",
       "258  Smoothies & Shakes  McFlurry with Reese's Peanut Butter Cups (Medium)   \n",
       "259  Smoothies & Shakes   McFlurry with Reese's Peanut Butter Cups (Snack)   \n",
       "\n",
       "        Serving Size  Calories  Calories from Fat  Total Fat  \\\n",
       "0     4.8 oz (136 g)       300                120       13.0   \n",
       "1     4.8 oz (135 g)       250                 70        8.0   \n",
       "2     3.9 oz (111 g)       370                200       23.0   \n",
       "3     5.7 oz (161 g)       450                250       28.0   \n",
       "4     5.7 oz (161 g)       400                210       23.0   \n",
       "..               ...       ...                ...        ...   \n",
       "255  10.1 oz (285 g)       510                150       17.0   \n",
       "256  13.4 oz (381 g)       690                200       23.0   \n",
       "257   6.7 oz (190 g)       340                100       11.0   \n",
       "258  14.2 oz (403 g)       810                290       32.0   \n",
       "259   7.1 oz (202 g)       410                150       16.0   \n",
       "\n",
       "     Total Fat (% Daily Value)  Saturated Fat  Saturated Fat (% Daily Value)  \\\n",
       "0                           20            5.0                             25   \n",
       "1                           12            3.0                             15   \n",
       "2                           35            8.0                             42   \n",
       "3                           43           10.0                             52   \n",
       "4                           35            8.0                             42   \n",
       "..                         ...            ...                            ...   \n",
       "255                         26            9.0                             44   \n",
       "256                         35           12.0                             58   \n",
       "257                         17            6.0                             29   \n",
       "258                         50           15.0                             76   \n",
       "259                         25            8.0                             38   \n",
       "\n",
       "     Trans Fat  ...  Carbohydrates  Carbohydrates (% Daily Value)  \\\n",
       "0          0.0  ...             31                             10   \n",
       "1          0.0  ...             30                             10   \n",
       "2          0.0  ...             29                             10   \n",
       "3          0.0  ...             30                             10   \n",
       "4          0.0  ...             30                             10   \n",
       "..         ...  ...            ...                            ...   \n",
       "255        0.5  ...             80                             27   \n",
       "256        1.0  ...            106                             35   \n",
       "257        0.0  ...             53                             18   \n",
       "258        1.0  ...            114                             38   \n",
       "259        0.0  ...             57                             19   \n",
       "\n",
       "     Dietary Fiber  Dietary Fiber (% Daily Value)  Sugars  Protein  \\\n",
       "0                4                             17       3       17   \n",
       "1                4                             17       3       18   \n",
       "2                4                             17       2       14   \n",
       "3                4                             17       2       21   \n",
       "4                4                             17       2       21   \n",
       "..             ...                            ...     ...      ...   \n",
       "255              1                              4      64       12   \n",
       "256              1                              5      85       15   \n",
       "257              1                              2      43        8   \n",
       "258              2                              9     103       21   \n",
       "259              1                              5      51       10   \n",
       "\n",
       "     Vitamin A (% Daily Value)  Vitamin C (% Daily Value)  \\\n",
       "0                           10                          0   \n",
       "1                            6                          0   \n",
       "2                            8                          0   \n",
       "3                           15                          0   \n",
       "4                            6                          0   \n",
       "..                         ...                        ...   \n",
       "255                         15                          0   \n",
       "256                         20                          0   \n",
       "257                         10                          0   \n",
       "258                         20                          0   \n",
       "259                         10                          0   \n",
       "\n",
       "     Calcium (% Daily Value)  Iron (% Daily Value)  \n",
       "0                         25                    15  \n",
       "1                         25                     8  \n",
       "2                         25                    10  \n",
       "3                         30                    15  \n",
       "4                         25                    10  \n",
       "..                       ...                   ...  \n",
       "255                       40                     8  \n",
       "256                       50                    10  \n",
       "257                       25                     6  \n",
       "258                       60                     6  \n",
       "259                       30                     4  \n",
       "\n",
       "[260 rows x 24 columns]"
      ]
     },
     "execution_count": 3,
     "metadata": {},
     "output_type": "execute_result"
    }
   ],
   "source": [
    "df"
   ]
  },
  {
   "cell_type": "code",
   "execution_count": 4,
   "metadata": {},
   "outputs": [
    {
     "data": {
      "text/plain": [
       "(260, 24)"
      ]
     },
     "execution_count": 4,
     "metadata": {},
     "output_type": "execute_result"
    }
   ],
   "source": [
    "df.shape"
   ]
  },
  {
   "cell_type": "code",
   "execution_count": 5,
   "metadata": {},
   "outputs": [
    {
     "data": {
      "text/plain": [
       "Category              object\n",
       "Item                  object\n",
       "Serving_Size_ml      float64\n",
       "Serving_Size_g       float64\n",
       "Calories               int64\n",
       "Calories_from_Fat      int64\n",
       "Total_Fat            float64\n",
       "Total_Fat_DV           int64\n",
       "Saturated_Fat        float64\n",
       "Saturated_Fat_DV       int64\n",
       "Trans_Fat            float64\n",
       "Cholesterol            int64\n",
       "Cholesterol_DV         int64\n",
       "Sodium                 int64\n",
       "Sodium_DV              int64\n",
       "Carbohydrates          int64\n",
       "Carbohydrates_DV       int64\n",
       "Dietary_Fiber          int64\n",
       "Dietary_Fiber_DV       int64\n",
       "Sugars                 int64\n",
       "Protein                int64\n",
       "Vitamin_A_DV           int64\n",
       "Vitamin_C_DV           int64\n",
       "Calcium_DV             int64\n",
       "Iron_DV                int64\n",
       "dtype: object"
      ]
     },
     "metadata": {},
     "output_type": "display_data"
    }
   ],
   "source": [
    "for column in df.columns:\n",
    "    df = df.rename(columns={column : column.replace(\"(% Daily Value)\", \"DV\")} )\n",
    "for column in df.columns:\n",
    "    df = df.rename(columns={column : column.replace(\" \", \"_\")})\n",
    "    \n",
    "if 'Serving_Size' in df.columns:\n",
    "    df['Serving_Size_g'] = None\n",
    "    for i,value in enumerate(df['Serving_Size']):\n",
    "        if (value.find('fl') < 0 and value.find('ml') < 0):\n",
    "            value = (value[value.find(\"(\")+1:value.find(\" g\")])\n",
    "            df['Serving_Size_g'][i] = np.float64(value)\n",
    "            df['Serving_Size'][i] = None\n",
    "        else:\n",
    "            if (value.find(' fl') > 0):\n",
    "                df['Serving_Size'][i] = (np.float64(value[0:value.find(' fl')]) * 29.57)\n",
    "            elif (value.find(' ml') > 0):\n",
    "                df['Serving_Size'][i] = np.float64(value[value.find(' ml')-3:value.find(' ml')])\n",
    "\n",
    "    df = df.rename(columns={\"Serving_Size\": \"Serving_Size_ml\"})\n",
    "\n",
    "    if (df.columns.tolist()[3] != \"Serving_Size_g\"):\n",
    "        cols = df.columns.tolist()\n",
    "        cols = cols[:3] + cols[-1:] + cols[-22:-1]\n",
    "        df = df[cols]\n",
    "\n",
    "    df['Serving_Size_g'] = np.float64(df['Serving_Size_g'])\n",
    "    df['Serving_Size_ml'] = np.float64(df['Serving_Size_ml'])\n",
    "\n",
    "display(df.dtypes)"
   ]
  },
  {
   "cell_type": "code",
   "execution_count": 6,
   "metadata": {},
   "outputs": [
    {
     "data": {
      "text/plain": [
       "(42, 25)"
      ]
     },
     "execution_count": 6,
     "metadata": {},
     "output_type": "execute_result"
    }
   ],
   "source": [
    "df = df[df['Category'].isin(['Breakfast'])]\n",
    "\n",
    "df.shape"
   ]
  },
  {
   "cell_type": "code",
   "execution_count": 7,
   "metadata": {},
   "outputs": [
    {
     "data": {
      "image/png": "[encoded data removed]",
      "text/plain": [
       "<Figure size 1000x600 with 1 Axes>"
      ]
     },
     "metadata": {},
     "output_type": "display_data"
    }
   ],
   "source": [
    "plt.figure(figsize=(10, 6))\n",
    "sns.boxplot(data=df, x='Serving_Size_g')\n",
    "plt.title('Boxplot of Serving size in Breakfast Category')\n",
    "plt.xlabel('Serving Size')\n",
    "plt.show()"
   ]
  },
  {
   "cell_type": "code",
   "execution_count": 9,
   "metadata": {},
   "outputs": [],
   "source": [
    "Q1_serving = df['Serving_Size_g'].quantile(0.25)\n",
    "Q3_serving = df['Serving_Size_g'].quantile(0.75)\n",
    "IQR_serving = Q3_serving - Q1_serving\n",
    "\n",
    "lower_bound_serving = Q1_serving - 1.5 * IQR_serving\n",
    "upper_bound_serving = Q3_serving + 1.5 * IQR_serving\n",
    "\n",
    "outliers_serving = df[(df['Serving_Size_g'] < lower_bound_serving) | (df['Serving_Size_g'] > upper_bound_serving)]\n",
    "# outliers_serving\n",
    "df = df[~df.index.isin(outliers_serving.index)]"
   ]
  },
  {
   "cell_type": "code",
   "execution_count": 10,
   "metadata": {},
   "outputs": [
    {
     "data": {
      "text/plain": [
       "(38, 25)"
      ]
     },
     "execution_count": 10,
     "metadata": {},
     "output_type": "execute_result"
    }
   ],
   "source": [
    "df.shape"
   ]
  },
  {
   "cell_type": "code",
   "execution_count": 22,
   "metadata": {},
   "outputs": [
    {
     "name": "stdout",
     "output_type": "stream",
     "text": [
      "The item with the most calories in the Breakfast category is 'Big Breakfast (Large Biscuit)' with 800 calories.\n"
     ]
    }
   ],
   "source": [
    "max_calories_index = df['Calories'].idxmax()\n",
    "\n",
    "item_with_most_calories = df.loc[max_calories_index, 'Item']\n",
    "max_calories = df.loc[max_calories_index, 'Calories']\n",
    "\n",
    "print(f\"The item with the most calories in the Breakfast category is '{item_with_most_calories}' with {max_calories} calories.\")"
   ]
  },
  {
   "cell_type": "code",
   "execution_count": 23,
   "metadata": {},
   "outputs": [
    {
     "name": "stdout",
     "output_type": "stream",
     "text": [
      "The item with the most calories from fat in the Breakfast category is 'Big Breakfast (Large Biscuit)' with 470 calories.\n"
     ]
    }
   ],
   "source": [
    "max_calories_from_fat_index = df['Calories_from_Fat'].idxmax()\n",
    "\n",
    "item_with_most_calories_from_fat = df.loc[max_calories_from_fat_index, 'Item']\n",
    "max_calories_from_fat = df.loc[max_calories_from_fat_index, 'Calories_from_Fat']\n",
    "\n",
    "print(f\"The item with the most calories from fat in the Breakfast category is '{item_with_most_calories_from_fat}' with {max_calories_from_fat} calories.\")"
   ]
  },
  {
   "cell_type": "code",
   "execution_count": 24,
   "metadata": {},
   "outputs": [
    {
     "name": "stdout",
     "output_type": "stream",
     "text": [
      "The item with the most fat in the Breakfast category is 'Big Breakfast (Large Biscuit)' with 52.0 fats.\n"
     ]
    }
   ],
   "source": [
    "max_fat_index = df['Total_Fat'].idxmax()\n",
    "\n",
    "item_with_most_fat = df.loc[max_fat_index, 'Item']\n",
    "max_fat = df.loc[max_fat_index, 'Total_Fat']\n",
    "\n",
    "print(f\"The item with the most fat in the Breakfast category is '{item_with_most_fat}' with {max_fat} fats.\")"
   ]
  },
  {
   "cell_type": "code",
   "execution_count": 25,
   "metadata": {},
   "outputs": [
    {
     "name": "stdout",
     "output_type": "stream",
     "text": [
      "The item with the most saturated fat in the Breakfast category is 'Big Breakfast (Large Biscuit)' with 18.0 fats.\n"
     ]
    }
   ],
   "source": [
    "max_Saturated_Fat_index = df['Saturated_Fat'].idxmax()\n",
    "\n",
    "item_with_most_Saturated_fat = df.loc[max_Saturated_Fat_index, 'Item']\n",
    "max_saturated_fat = df.loc[max_Saturated_Fat_index, 'Saturated_Fat']\n",
    "\n",
    "print(f\"The item with the most saturated fat in the Breakfast category is '{item_with_most_Saturated_fat}' with {max_saturated_fat} fats.\")"
   ]
  },
  {
   "cell_type": "code",
   "execution_count": 26,
   "metadata": {},
   "outputs": [
    {
     "name": "stdout",
     "output_type": "stream",
     "text": [
      "The item with the most Cholestrol in the Breakfast category is 'Big Breakfast (Regular Biscuit)' with 555 \n"
     ]
    }
   ],
   "source": [
    "max_Cholesterol_index = df['Cholesterol'].idxmax()\n",
    "\n",
    "item_with_most_Cholesterol = df.loc[max_Cholesterol_index, 'Item']\n",
    "max_Cholesterol = df.loc[max_Cholesterol_index, 'Cholesterol']\n",
    "\n",
    "print(f\"The item with the most Cholestrol in the Breakfast category is '{item_with_most_Cholesterol}' with {max_Cholesterol} \")"
   ]
  },
  {
   "cell_type": "code",
   "execution_count": 27,
   "metadata": {},
   "outputs": [
    {
     "name": "stdout",
     "output_type": "stream",
     "text": [
      "The item with the most Sodium in the Breakfast category is 'Big Breakfast with Egg Whites (Large Biscuit)' with 1700 \n"
     ]
    }
   ],
   "source": [
    "max_Sodium_index = df['Sodium'].idxmax()\n",
    "\n",
    "item_with_most_Sodium = df.loc[max_Sodium_index, 'Item']\n",
    "max_Sodium = df.loc[max_Sodium_index, 'Sodium']\n",
    "\n",
    "print(f\"The item with the most Sodium in the Breakfast category is '{item_with_most_Sodium}' with {max_Sodium} \")"
   ]
  },
  {
   "cell_type": "code",
   "execution_count": 18,
   "metadata": {},
   "outputs": [
    {
     "name": "stdout",
     "output_type": "stream",
     "text": [
      "The item with the most Carbohydrates in the Coffee and Tea category is 'Cinnamon Melts' with 66 \n"
     ]
    }
   ],
   "source": [
    "max_Carbohydrates_index = df['Carbohydrates'].idxmax()\n",
    "\n",
    "item_with_most_Carbohydrates = df.loc[max_Carbohydrates_index, 'Item']\n",
    "max_Carbohydrates = df.loc[max_Carbohydrates_index, 'Carbohydrates']\n",
    "\n",
    "print(f\"The item with the most Carbohydrates in the Breakfast category is '{item_with_most_Carbohydrates}' with {max_Carbohydrates} \")"
   ]
  },
  {
   "cell_type": "code",
   "execution_count": 28,
   "metadata": {},
   "outputs": [
    {
     "name": "stdout",
     "output_type": "stream",
     "text": [
      "The item with the most Sugars in the Breakfast category is 'Cinnamon Melts' with 32 \n"
     ]
    }
   ],
   "source": [
    "max_Sugars_index = df['Sugars'].idxmax()\n",
    "\n",
    "item_with_most_Sugars = df.loc[max_Sugars_index, 'Item']\n",
    "max_Sugars = df.loc[max_Sugars_index, 'Sugars']\n",
    "\n",
    "print(f\"The item with the most Sugars in the Breakfast category is '{item_with_most_Sugars}' with {max_Sugars} \")"
   ]
  },
  {
   "cell_type": "code",
   "execution_count": 29,
   "metadata": {},
   "outputs": [
    {
     "name": "stdout",
     "output_type": "stream",
     "text": [
      "The item with the most Protein in the Breakfast category is 'Steak, Egg & Cheese Bagel' with 33 \n"
     ]
    }
   ],
   "source": [
    "max_Protein_index = df['Protein'].idxmax()\n",
    "\n",
    "item_with_most_Protein = df.loc[max_Protein_index, 'Item']\n",
    "max_Protein = df.loc[max_Protein_index, 'Protein']\n",
    "\n",
    "print(f\"The item with the most Protein in the Breakfast category is '{item_with_most_Protein}' with {max_Protein} \")"
   ]
  },
  {
   "cell_type": "code",
   "execution_count": 30,
   "metadata": {},
   "outputs": [
    {
     "name": "stdout",
     "output_type": "stream",
     "text": [
      "The item with the most Dietary Fiber in the Breakfast category is 'Fruit & Maple Oatmeal' with 5 \n"
     ]
    }
   ],
   "source": [
    "max_Dietary_Fiber_index = df['Dietary_Fiber'].idxmax()\n",
    "\n",
    "item_with_most_Dietary_Fiber = df.loc[max_Dietary_Fiber_index, 'Item']\n",
    "max_Dietary_Fiber = df.loc[max_Dietary_Fiber_index, 'Dietary_Fiber']\n",
    "\n",
    "print(f\"The item with the most Dietary Fiber in the Breakfast category is '{item_with_most_Dietary_Fiber}' with {max_Dietary_Fiber} \")"
   ]
  }
 ],
 "metadata": {
  "kernelspec": {
   "display_name": "Python 3",
   "language": "python",
   "name": "python3"
  },
  "language_info": {
   "codemirror_mode": {
    "name": "ipython",
    "version": 3
   },
   "file_extension": ".py",
   "mimetype": "text/x-python",
   "name": "python",
   "nbconvert_exporter": "python",
   "pygments_lexer": "ipython3",
   "version": "3.11.4"
  }
 },
 "nbformat": 4,
 "nbformat_minor": 2
}
